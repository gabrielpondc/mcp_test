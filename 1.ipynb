{
 "cells": [
  {
   "cell_type": "code",
   "execution_count": 1,
   "metadata": {},
   "outputs": [],
   "source": [
    "from openai import OpenAI"
   ]
  },
  {
   "cell_type": "code",
   "execution_count": null,
   "metadata": {},
   "outputs": [],
   "source": [
    "client=OpenAI(base_url=\"https://10.1.51.23:9998/v1\", api_key=\"sk-...\")"
   ]
  },
  {
   "cell_type": "code",
   "execution_count": null,
   "metadata": {},
   "outputs": [
    {
     "name": "stdout",
     "output_type": "stream",
     "text": [
      "NoneNoneNoneNoneNoneNoneNoneNoneNoneNoneNoneNoneNoneNoneNoneNoneNoneNoneNoneNoneNoneNoneNoneNoneNoneNoneNoneNoneNoneNoneNoneNoneNoneNoneNoneNoneNoneNoneNoneNoneNoneNoneNoneNoneNoneNoneNoneNoneNoneNoneNoneNoneNoneNoneNoneNoneNoneNoneNoneNoneNoneNoneNoneNoneNoneNoneNoneNoneNoneNoneNoneNoneNoneNoneNoneNoneNoneNoneNoneNoneNoneNoneNoneNoneNoneNoneNoneNoneNoneNoneNoneNoneNoneNoneNoneNoneNoneNoneNoneNoneNoneNoneNoneNoneNoneNoneNoneNoneNoneNoneNoneNoneNoneNoneNoneNoneNoneNoneNoneNoneNoneNoneNoneNoneNoneNoneNoneNoneNoneNoneNoneNoneNoneNoneNoneNoneNoneNoneNoneNoneNoneNoneNoneNoneNoneNoneNoneNoneNoneNoneNoneNoneNoneNoneNoneNoneNoneNoneNoneNoneNoneNoneNoneNoneNoneNoneNoneNoneNoneNoneNoneNoneNoneNoneNoneNoneNoneNoneNoneNoneNoneNoneNoneNoneNoneNoneNoneNoneNoneNoneNoneNoneNoneNoneNoneNoneNoneNoneNoneNoneNoneNoneNoneNoneNoneNoneNoneNoneNoneNoneNoneNoneNoneNoneNoneNoneNoneNoneNoneNoneNoneNoneNoneNoneNoneNoneNoneNoneNoneNoneNoneNoneNoneNoneNoneNoneNoneNoneNoneNoneNoneNoneNoneNoneNoneNoneNoneNoneNoneNoneNoneNoneNoneNoneNoneNoneNoneNoneNoneNoneNoneNoneNoneNoneNoneNoneNoneNoneNoneNoneNoneNoneNoneNoneNoneNoneNoneNoneNoneNoneNoneNoneNoneNoneNoneNoneNoneNoneNoneNoneNoneNoneNoneNoneNoneNoneNoneNoneNoneNoneNoneNoneNoneNoneNoneNoneNoneNoneNoneNoneNoneNoneNoneNoneNoneNoneNoneNoneNoneNoneNoneNoneNoneNoneNoneNoneNoneNoneNoneNoneNoneNoneNoneNoneNoneNoneNoneNoneNoneNoneNoneNoneNoneNoneNoneNoneNoneNoneNoneNoneNoneNoneNoneNoneNoneNoneNoneNoneNoneNoneNoneNoneNoneNoneNoneNoneNoneNoneNoneNoneNoneNoneNoneNoneNoneNoneNoneNoneNoneNoneNoneNoneNoneNoneNoneNoneNoneNoneNoneNoneNoneNoneNoneNoneNoneNoneNoneNoneNoneNoneNoneNoneNoneNoneNoneNoneNoneNoneNoneNoneNoneNoneNoneNoneNoneNoneNoneNoneNoneNoneNoneNoneNoneNoneNoneNoneNoneNoneNoneNoneNoneNoneNoneNoneNoneNoneNoneNoneNoneNoneNoneNoneNoneNoneNoneNoneNoneNoneNoneNoneNoneNoneNoneNoneNoneNoneNoneNoneNoneNoneNoneNoneNoneNoneNoneNoneNoneNoneNoneNoneNoneNoneNoneNoneNoneNoneNoneNoneNoneNoneNoneNoneNoneNoneNoneNoneNoneNoneNoneNoneNoneNoneNoneNoneNoneNoneNoneNoneNoneNoneNoneNoneNoneNoneNoneNoneNoneNoneNoneNoneNoneNoneNoneNoneNoneNoneNoneNoneNoneNoneNoneNoneNoneNoneNoneNoneNoneNoneNoneNoneNoneNoneNoneNoneNoneNoneNoneNoneNoneNoneNoneNoneNoneNoneNoneNoneNoneNoneNoneNoneNoneNoneNoneNoneNoneNoneNoneNoneNoneNoneNoneNoneNoneNoneNoneNoneNoneNoneNoneNoneNoneNoneNoneNoneNoneNoneNoneNoneNoneNoneNoneNoneNoneNoneNoneNoneNoneNoneNoneNoneNoneNoneNoneNoneNoneNoneNoneNoneNoneNoneNoneNoneNoneNoneNoneNoneNoneNoneNoneNoneNoneNoneNoneNoneNoneNoneNoneNoneNoneNoneNoneNoneNoneNoneNoneNoneNoneNoneNoneNoneNoneNoneNoneNoneNoneNoneNone"
     ]
    }
   ],
   "source": [
    "rs=client.chat.completions.create(\n",
    "    model=\"deepseek-ai/DeepSeek-R1-Distill-Qwen-14B\",\n",
    "    messages=[\n",
    "       {\n",
    "                    \"role\": \"system\",\n",
    "                    \"content\": \"\"\"你是一个医疗专家，你的任务生成格式化的病历摘要，并会用json格式返回，{\n",
    "                    \"主诉\": {\"type\": \"string\"},\n",
    "                    \"现病史\": {\"type\": \"string\"},\n",
    "                    \"既往史\": {\"type\": \"string\"},\n",
    "                    \"个人史\": {\"type\": \"string\"},\n",
    "                    \"家族史\": {\"type\": \"string\"},\n",
    "                    \"体格检查\": {\"type\": \"string\"},\n",
    "                    \"辅助检查\": {\"type\": \"string\"},\n",
    "                    \"诊断\": {\"type\": \"string\"},\n",
    "                    \"治疗方案\": {\"type\": \"string\"},\n",
    "                    \"注意事项\": {\"type\": \"string\"},\n",
    "                    \"预后\": {\"type\": \"string\"},\n",
    "                    \"随访计划\": {\"type\": \"string\"}\n",
    "                }\"\"\"\n",
    "                },\n",
    "    {\n",
    "                    \"role\": \"user\",\n",
    "                    \"content\":\"我头痛，有点发烧，这是我的检验指标，bmi 22.5，血压120/80，血糖6.5，总胆固醇5.5，尿酸300，尿常规：蛋白+，尿胆原+，尿胆红素+，尿酮体+，尿潜血+，尿白细胞+，尿比重1.025，尿酸碱度6.5，尿葡萄糖+，尿蛋白+，尿胆原+，尿胆红素+，尿酮体+，尿潜血+，尿白细胞+，尿比重1.025，尿酸碱度6.5，尿葡萄糖+，尿蛋白+，尿胆原+，尿胆红素+，尿酮体+，尿潜血+，尿白细胞+，尿比重1.025，尿酸碱度6.5，尿葡萄糖+，尿蛋白+，尿胆原+，尿胆红素+，尿酮体+，尿潜血+，尿白细胞+，尿比重1.025，尿酸碱度6.5，尿葡萄糖+，尿蛋白+，尿胆原+，尿胆红素+，尿酮体+，尿潜血+，尿白细胞+，尿比重1.025，尿酸碱度6.5，尿葡萄糖+，尿蛋白+，尿胆原+，尿胆红素+，尿酮体+，尿潜血+，尿白细胞+，尿比重1.025，尿酸碱度6.5，尿葡萄糖+，尿蛋白+，尿胆原+，尿胆红素+，尿酮体+，尿\"\n",
    "                }\n",
    "    ],\n",
    "    stream=True,\n",
    "    response_format={\"type\": \"json_object\"},\n",
    "    \n",
    "\n",
    ")\n",
    "\n",
    "for chunk in rs:\n",
    "    print(chunk.choices[0].delta.content, end=\"\")"
   ]
  },
  {
   "cell_type": "code",
   "execution_count": 14,
   "metadata": {},
   "outputs": [
    {
     "data": {
      "text/plain": [
       "ChatCompletion(id='0196565d68841b78627f6d0bdde68a18', choices=[Choice(finish_reason='stop', index=0, logprobs=None, message=ChatCompletionMessage(content='      \\t\\t\\t{\\n           \"name\": \"鼠\",\\n           \"year\": \"2024, 2036, 2048, 2012, 2000, 1988, 1976\"\\n        }\\n       \\t\\n    \\n', refusal=None, role='assistant', audio=None, function_call=None, tool_calls=None))], created=1745205684, model='Qwen/Qwen2.5-7B-Instruct', object='chat.completion', service_tier=None, system_fingerprint='', usage=CompletionUsage(completion_tokens=60, prompt_tokens=55, total_tokens=115, completion_tokens_details=None, prompt_tokens_details=None))"
      ]
     },
     "execution_count": 14,
     "metadata": {},
     "output_type": "execute_result"
    }
   ],
   "source": [
    "rs"
   ]
  },
  {
   "cell_type": "code",
   "execution_count": 3,
   "metadata": {},
   "outputs": [],
   "source": [
    "import json_repair"
   ]
  },
  {
   "cell_type": "code",
   "execution_count": 36,
   "metadata": {},
   "outputs": [],
   "source": [
    "need_repair= \"\"\"你是一个医疗专家，你的任务生成格式化的病历摘要，并会用json格式返回，{\n",
    "                    \"主诉\": {\"type\": \"string\"},\n",
    "                    \"现病史\": {\"type\": \"string\"},\n",
    "                    \"既往史\": {\"type\": \"string\"},\n",
    "                    \"个人史\": {\"type\": \"string\"},\n",
    "                    \"家族史\": {\"type\": \"string\"},\n",
    "                    \"体格检查\": {\"type\": \"string\"},\n",
    "                    \"辅助检查\": {\"type\": \"string\"},\n",
    "                    \"诊断\": {\"type\": \"string\"},\n",
    "                    \"治疗方案\": {\"type\": \"string\"},\n",
    "                    \"注意事项\": {\"type\": \"string\"},\n",
    "                    \"预后\": {\"type\": \"string\"},\n",
    "                    \"随访计划\": {\"type\": \"string\"}\n",
    "\n",
    "\n",
    "                }\n",
    "                \n",
    "                另外还有一个数据样式为\n",
    "                {\n",
    "                \"a\": \"b\",\n",
    "                \"c\": \"d\",\n",
    "                }\n",
    "                \n",
    "                \"\"\""
   ]
  },
  {
   "cell_type": "code",
   "execution_count": 37,
   "metadata": {},
   "outputs": [
    {
     "data": {
      "text/plain": [
       "[{'主诉': {'type': 'string'},\n",
       "  '现病史': {'type': 'string'},\n",
       "  '既往史': {'type': 'string'},\n",
       "  '个人史': {'type': 'string'},\n",
       "  '家族史': {'type': 'string'},\n",
       "  '体格检查': {'type': 'string'},\n",
       "  '辅助检查': {'type': 'string'},\n",
       "  '诊断': {'type': 'string'},\n",
       "  '治疗方案': {'type': 'string'},\n",
       "  '注意事项': {'type': 'string'},\n",
       "  '预后': {'type': 'string'},\n",
       "  '随访计划': {'type': 'string'}},\n",
       " {'a': 'b', 'c': 'd'}]"
      ]
     },
     "execution_count": 37,
     "metadata": {},
     "output_type": "execute_result"
    }
   ],
   "source": [
    "json_repair.loads(need_repair)"
   ]
  },
  {
   "cell_type": "code",
   "execution_count": 1,
   "metadata": {},
   "outputs": [
    {
     "data": {
      "text/plain": [
       "'\\n你是一个金小唐，你需要参照你好去回复问题\\n\\n'"
      ]
     },
     "execution_count": 1,
     "metadata": {},
     "output_type": "execute_result"
    }
   ],
   "source": [
    "class SafeDict(dict):\n",
    "    def __init__(self, mapping, keep_missing=True):\n",
    "        super().__init__(mapping)\n",
    "        self.keep_missing = keep_missing\n",
    "\n",
    "    def __missing__(self, key):\n",
    "        if self.keep_missing:\n",
    "            return \"{\" + key + \"}\"\n",
    "        else:\n",
    "            return \"\"\n",
    "\n",
    "def safe_format(template: str, mapping: dict, keep_missing=True):\n",
    "    # 用SafeDict实现缺失变量自动删除或保留\n",
    "    return template.format_map(SafeDict(mapping, keep_missing=keep_missing))\n",
    "\n",
    "prompt = \"\"\"\n",
    "你是一个金小唐，你需要参照{esr}去回复问题\n",
    "\n",
    "\"\"\"\n",
    "safe_format(prompt, {\"esr\": \"你好\"}, keep_missing=False)"
   ]
  },
  {
   "cell_type": "code",
   "execution_count": 2,
   "metadata": {},
   "outputs": [
    {
     "name": "stdout",
     "output_type": "stream",
     "text": [
      "你是一个金小唐，你需要参照主诉：气短去回复问题\n"
     ]
    }
   ],
   "source": [
    "def replace_pre_prompt(pre_prompt: str, user_input_form: list, inputs: dict):\n",
    "    \"\"\"\n",
    "    根据 user_input_form 的 label 和 variable，替换 pre_prompt 中的 {{label}} 为 inputs[variable] 的值\n",
    "    \"\"\"\n",
    "    for item in user_input_form:\n",
    "        if 'text-input' in item:\n",
    "            label = item['text-input'].get('label')\n",
    "            variable = item['text-input'].get('variable')\n",
    "            value = inputs.get(variable, '')\n",
    "            pre_prompt = pre_prompt.replace(f'{{{{{label}}}}}', value)\n",
    "    return pre_prompt\n",
    "\n",
    "# 示例用法\n",
    "pre_prompt = \"你是一个金小唐，你需要参照{{电子病历}}去回复问题\"\n",
    "user_input_form = [\n",
    "    {\"text-input\": {\"label\": \"电子病历\", \"variable\": \"esr\", \"required\": True, \"max_length\": 48, \"default\": \"\"}}\n",
    "]\n",
    "inputs = {\"esr\": \"主诉：气短\"}\n",
    "updated_pre_prompt = replace_pre_prompt(pre_prompt, user_input_form, inputs)\n",
    "print(updated_pre_prompt)"
   ]
  },
  {
   "cell_type": "code",
   "execution_count": null,
   "metadata": {},
   "outputs": [],
   "source": []
  }
 ],
 "metadata": {
  "kernelspec": {
   "display_name": "base",
   "language": "python",
   "name": "python3"
  },
  "language_info": {
   "codemirror_mode": {
    "name": "ipython",
    "version": 3
   },
   "file_extension": ".py",
   "mimetype": "text/x-python",
   "name": "python",
   "nbconvert_exporter": "python",
   "pygments_lexer": "ipython3",
   "version": "3.11.5"
  }
 },
 "nbformat": 4,
 "nbformat_minor": 2
}
